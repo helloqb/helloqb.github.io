{
 "cells": [
  {
   "cell_type": "markdown",
   "metadata": {},
   "source": [
    "# [] 用法"
   ]
  },
  {
   "cell_type": "code",
   "execution_count": 94,
   "metadata": {},
   "outputs": [
    {
     "data": {
      "text/plain": [
       "['a', 'b', 'c']"
      ]
     },
     "execution_count": 94,
     "metadata": {},
     "output_type": "execute_result"
    }
   ],
   "source": [
    "# [] 匹配或\n",
    "import re\n",
    "re.findall(\"[abc]\", \"12a3456b78c90\")"
   ]
  },
  {
   "cell_type": "code",
   "execution_count": 95,
   "metadata": {
    "scrolled": true
   },
   "outputs": [
    {
     "data": {
      "text/plain": [
       "['1', '2', '3', '4', '5', '6', '7', '8', '9', '0']"
      ]
     },
     "execution_count": 95,
     "metadata": {},
     "output_type": "execute_result"
    }
   ],
   "source": [
    "# [^] 匹配非\n",
    "re.findall(\"[^abc]\", \"12a3456b78c90\")"
   ]
  },
  {
   "cell_type": "markdown",
   "metadata": {},
   "source": [
    "# *+? 用法"
   ]
  },
  {
   "cell_type": "code",
   "execution_count": 68,
   "metadata": {
    "scrolled": true
   },
   "outputs": [
    {
     "data": {
      "text/plain": [
       "['pytho', 'python', 'pythonn']"
      ]
     },
     "execution_count": 68,
     "metadata": {},
     "output_type": "execute_result"
    }
   ],
   "source": [
    "# * 匹配0次或无限多次\n",
    "re.findall(\"python*\", \"pytho0python6pythonn2\")"
   ]
  },
  {
   "cell_type": "code",
   "execution_count": 69,
   "metadata": {},
   "outputs": [
    {
     "data": {
      "text/plain": [
       "['python', 'pythonn']"
      ]
     },
     "execution_count": 69,
     "metadata": {},
     "output_type": "execute_result"
    }
   ],
   "source": [
    "# + 匹配1次或无限多次\n",
    "re.findall(\"python+\", \"pytho0python6pythonn2\")"
   ]
  },
  {
   "cell_type": "code",
   "execution_count": 70,
   "metadata": {
    "scrolled": false
   },
   "outputs": [
    {
     "data": {
      "text/plain": [
       "['pytho', 'python', 'python']"
      ]
     },
     "execution_count": 70,
     "metadata": {},
     "output_type": "execute_result"
    }
   ],
   "source": [
    "# ？ 匹配0次或1次\n",
    "re.findall(\"python?\", \"pytho0python6pythonn2\")"
   ]
  },
  {
   "cell_type": "markdown",
   "metadata": {},
   "source": [
    "# 贪婪非贪婪"
   ]
  },
  {
   "cell_type": "code",
   "execution_count": 66,
   "metadata": {},
   "outputs": [
    {
     "data": {
      "text/plain": [
       "['python', 'java', 'php']"
      ]
     },
     "execution_count": 66,
     "metadata": {},
     "output_type": "execute_result"
    }
   ],
   "source": [
    "# {} 贪婪\n",
    "re.findall(\"[a-z]{3,6}\", \"pythonn1111java678php\")"
   ]
  },
  {
   "cell_type": "code",
   "execution_count": 67,
   "metadata": {
    "scrolled": true
   },
   "outputs": [
    {
     "data": {
      "text/plain": [
       "['pyt', 'hon', 'jav', 'php']"
      ]
     },
     "execution_count": 67,
     "metadata": {},
     "output_type": "execute_result"
    }
   ],
   "source": [
    "# {}? 贪婪\n",
    "re.findall(\"[a-z]{3,6}?\", \"pythonn1111java678php\")"
   ]
  },
  {
   "cell_type": "markdown",
   "metadata": {},
   "source": [
    "# () 组的用法"
   ]
  },
  {
   "cell_type": "markdown",
   "metadata": {},
   "source": [
    "### 查找组\n",
    "\n",
    "使用 `re.findall` 注意事项:\n",
    "\n",
    "* `r = re.findall('正则表达式', '字符串', flags = re.I | re.S)`\n",
    "* `re.I` 不区分大小写\n",
    "* `re.S` 使 `.` 也匹配换行符"
   ]
  },
  {
   "cell_type": "code",
   "execution_count": 92,
   "metadata": {
    "scrolled": true
   },
   "outputs": [
    {
     "data": {
      "text/plain": [
       "[('dave@google', '.com'), ('steve@gmail', '.com'), ('rob@gmail', '.com')]"
      ]
     },
     "execution_count": 92,
     "metadata": {},
     "output_type": "execute_result"
    }
   ],
   "source": [
    "str_emails = 'Dave邮箱：dave@google.com,奥斯卡Steve邮箱：steve@gmail.com,as京东方士大夫Rob:rob@gmail.com埃'\n",
    "patternn = r'([A-Z0-9._%+-]+@[A-Z0-9.-]+)(\\.[A-Z]{2,4})'\n",
    "# 匹配邮箱\n",
    "find_r = re.findall(patternn, str_emails, flags=re.IGNORECASE)\n",
    "find_r"
   ]
  },
  {
   "cell_type": "markdown",
   "metadata": {},
   "source": [
    "### 替换组"
   ]
  },
  {
   "cell_type": "code",
   "execution_count": 91,
   "metadata": {},
   "outputs": [
    {
     "data": {
      "text/plain": [
       "'Dave邮箱：dave@google.cn,奥斯卡Steve邮箱：steve@gmail.cn,as京东方士大夫Rob:rob@gmail.cn埃'"
      ]
     },
     "execution_count": 91,
     "metadata": {},
     "output_type": "execute_result"
    }
   ],
   "source": [
    "# 邮箱 .com 替换成 .cn\n",
    "sub_r = re.sub(patternn, r'\\g<1>.cn', str_emails, flags=re.IGNORECASE)\n",
    "sub_r\n",
    "# Out: Dave邮箱：dave@google.cn,奥斯卡Steve邮箱：steve@gmail.cn,as京东方士大夫Rob:rob@gmail.cn埃"
   ]
  },
  {
   "cell_type": "markdown",
   "metadata": {},
   "source": [
    "### re.sub() 传参为方法示例"
   ]
  },
  {
   "cell_type": "code",
   "execution_count": 77,
   "metadata": {},
   "outputs": [
    {
     "data": {
      "text/plain": [
       "'Python!!C#!!Java!!C#!!PHP!!C#!!'"
      ]
     },
     "execution_count": 77,
     "metadata": {},
     "output_type": "execute_result"
    }
   ],
   "source": [
    "lanuage = 'PythonC#JavaC#PHPC#'\n",
    "\n",
    "def convert(value):\n",
    "    matched = value.group()\n",
    "    return '!!' + matched + '!!'\n",
    "\n",
    "# 将函数作为参数传入\n",
    "r = re.sub('C#', convert, lanuage)\n",
    "r"
   ]
  }
 ],
 "metadata": {
  "kernelspec": {
   "display_name": "Python 3",
   "language": "python",
   "name": "python3"
  },
  "language_info": {
   "codemirror_mode": {
    "name": "ipython",
    "version": 3
   },
   "file_extension": ".py",
   "mimetype": "text/x-python",
   "name": "python",
   "nbconvert_exporter": "python",
   "pygments_lexer": "ipython3",
   "version": "3.7.3"
  }
 },
 "nbformat": 4,
 "nbformat_minor": 2
}
